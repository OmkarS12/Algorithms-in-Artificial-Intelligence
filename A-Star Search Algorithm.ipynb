{
  "cells": [
    {
      "attachments": {},
      "cell_type": "markdown",
      "metadata": {
        "id": "dB4_y4GBm0tt"
      },
      "source": [
        "# A-Star Search Algorithm"
      ]
    },
    {
      "attachments": {},
      "cell_type": "markdown",
      "metadata": {
        "id": "hRmWMPwTm5Ob"
      },
      "source": [
        "This notebook complements the walkthrough article [here](https://towardsdatascience.com/a-star-a-search-algorithm-eb495fb156bb) on the A-Star search algorithm. Throughout the notebook, we ask to you finish sections on your own and answer questions."
      ]
    },
    {
      "attachments": {},
      "cell_type": "markdown",
      "metadata": {
        "id": "auBnTGWHoMle"
      },
      "source": [
        "## What is A*?\n",
        "In order to determine the shortest route between an initial and an ending point, a searching algorithm is used. It is a practical algorithm that is frequently used to find the quickest route through a map. A* was initially created as a graph traversal issue to aid in the development of a self-navigating robot. It is still a very well-liked approach for traversing graphs. It starts by looking for shorter paths, making it an ideal and comprehensive method. A comprehensive algorithm finds every feasible solution to a problem, whereas an optimal algorithm will only identify the solution with the lowest cost. The usage of weighted graphs in A*'s implementation is another factor that contributes to its strength. Numbers are used in a weighted graph to show the costs associated with each option or course of action. This implies that the algorithms can select the least expensive option and determine the best path in terms of distance and travel time. italicized text"
      ]
    },
    {
      "attachments": {},
      "cell_type": "markdown",
      "metadata": {
        "id": "FsP7pSLAoooN"
      },
      "source": [
        "## Describe h and g?\n",
        "In A* search, describe the two key elements of *f(n)* (namely *h(n)* and *g(n)*). What do they represent in the algorithm and how do they differ?\n",
        "\n",
        "A. In the A* search algorithm, f(n) represents the total estimated cost of a node in the graph, which is the sum of two key elements: g(n) and h(n).\n",
        "\n",
        "g(n) represents the actual cost of traversing from the starting node to the current node n along a particular path. It takes into account the actual weights or costs of the edges in the graph. g(n) is known as the \"g-score\" and represents the cost-so-far or the path cost from the starting node to the current node. It ensures that the algorithm considers the actual costs incurred to reach a particular node.\n",
        "\n",
        "h(n) represents the heuristic approximation of the remaining cost from the current node n to the goal node. It is an estimated cost based on heuristics, which are problem-specific techniques or rules of thumb. h(n) is also known as the \"h-score\" and is used to guide the algorithm towards the goal by providing an optimistic estimate of the remaining cost. It captures the potential future cost from the current node to the goal node.\n",
        "\n",
        "The main difference between g(n) and h(n) is that g(n) considers the actual cost incurred so far to reach the current node, while h(n) provides an estimate of the remaining cost from the current node to the goal. The sum of g(n) and h(n), f(n), determines the priority of nodes in the search process, where the algorithm selects the node with the lowest f(n) value to expand next. By combining g(n) and h(n), A* balances between finding the optimal solution (using g(n)) and finding it efficiently (using h(n)).\n",
        "\n",
        "\n",
        "\n",
        "\n"
      ]
    },
    {
      "attachments": {},
      "cell_type": "markdown",
      "metadata": {
        "id": "-_VkEgNWuMDK"
      },
      "source": [
        "## Run Node"
      ]
    },
    {
      "cell_type": "code",
      "execution_count": 1,
      "metadata": {
        "id": "ufRvBVJBmmxA"
      },
      "outputs": [],
      "source": [
        "\n",
        "class Node():\n",
        "    \"\"\"A node class for A* Pathfinding\"\"\"\n",
        "\n",
        "    def __init__(self, parent=None, position=None):\n",
        "        self.parent = parent\n",
        "        self.position = position\n",
        "\n",
        "        self.g = 0\n",
        "        self.h = 0\n",
        "        self.f = 0\n",
        "\n",
        "    def __eq__(self, other):\n",
        "        return self.position == other.position"
      ]
    },
    {
      "attachments": {},
      "cell_type": "markdown",
      "metadata": {
        "id": "Ucsmb_lfuTrp"
      },
      "source": [
        "## What's 'Node'\n",
        "\n",
        "The purpose of the Node class in A* search algorithm is to represent a single point or location in the graph. It serves as a container that holds important information about the node, such as its position in the graph and its parent node. Initializing a parent node in the Node class allows us to keep track of the path that led to the current node. This is essential for reconstructing the optimal path once the goal node is reached. The parent node helps trace back the sequence of nodes from the goal node to the start node. The position attribute of the Node class specifies the coordinates or identification of the node in the graph. It enables the algorithm to locate and identify nodes accurately while navigating through the graph."
      ]
    },
    {
      "attachments": {},
      "cell_type": "markdown",
      "metadata": {
        "id": "B6s0TVMuur8t"
      },
      "source": [
        "## Run astar()"
      ]
    },
    {
      "cell_type": "code",
      "execution_count": 2,
      "metadata": {
        "id": "wYzrkdjZpxZs"
      },
      "outputs": [],
      "source": [
        "def astar(maze, start, end):\n",
        "    \"\"\"Returns a list of tuples as a path from the given start to the given end in the given maze\"\"\"\n",
        "\n",
        "    # Create start and end node\n",
        "    start_node = Node(None, start)\n",
        "    start_node.g = start_node.h = start_node.f = 0\n",
        "    end_node = Node(None, end)\n",
        "    end_node.g = end_node.h = end_node.f = 0\n",
        "\n",
        "    # Initialize both open and closed list\n",
        "    open_list = []\n",
        "    closed_list = []\n",
        "\n",
        "    # Add the start node\n",
        "    open_list.append(start_node)\n",
        "\n",
        "    # Loop until you find the end\n",
        "    while len(open_list) > 0:\n",
        "\n",
        "        # Get the current node\n",
        "        current_node = open_list[0]\n",
        "        current_index = 0\n",
        "        for index, item in enumerate(open_list):\n",
        "            if item.f < current_node.f:\n",
        "                current_node = item\n",
        "                current_index = index\n",
        "\n",
        "        # Pop current off open list, add to closed list\n",
        "        open_list.pop(current_index)\n",
        "        closed_list.append(current_node)\n",
        "\n",
        "        # Found the goal\n",
        "        if current_node == end_node:\n",
        "            path = []\n",
        "            current = current_node\n",
        "            while current is not None:\n",
        "                path.append(current.position)\n",
        "                current = current.parent\n",
        "            return path[::-1] # Return reversed path\n",
        "\n",
        "        # Generate children\n",
        "        children = []\n",
        "        for new_position in [(0, -1), (0, 1), (-1, 0), (1, 0), (-1, -1), (-1, 1), (1, -1), (1, 1)]: # Adjacent squares\n",
        "\n",
        "            # Get node position\n",
        "            node_position = (current_node.position[0] + new_position[0], current_node.position[1] + new_position[1])\n",
        "\n",
        "            # Make sure within range\n",
        "            if node_position[0] > (len(maze) - 1) or node_position[0] < 0 or node_position[1] > (len(maze[len(maze)-1]) -1) or node_position[1] < 0:\n",
        "                continue\n",
        "\n",
        "            # Make sure walkable terrain\n",
        "            if maze[node_position[0]][node_position[1]] != 0:\n",
        "                continue\n",
        "\n",
        "            # Create new node\n",
        "            new_node = Node(current_node, node_position)\n",
        "\n",
        "            # Append\n",
        "            children.append(new_node)\n",
        "\n",
        "        # Loop through children\n",
        "        for child in children:\n",
        "\n",
        "            # Child is on the closed list\n",
        "            if child in closed_list:\n",
        "              continue\n",
        "\n",
        "            # Create the f, g, and h values\n",
        "            child.g = current_node.g + 1\n",
        "            child.h = ((child.position[0] - end_node.position[0]) ** 2) + ((child.position[1] - end_node.position[1]) ** 2)\n",
        "            child.f = child.g + child.h\n",
        "\n",
        "            # Child is already in the open list\n",
        "            for open_node in open_list:\n",
        "                if child == open_node and child.g > open_node.g:\n",
        "                    continue\n",
        "\n",
        "            # Add the child to the open list\n",
        "            open_list.append(child)\n"
      ]
    },
    {
      "attachments": {},
      "cell_type": "markdown",
      "metadata": {
        "id": "hral7UX2vF0z"
      },
      "source": [
        "## What's maze\n",
        "What type of input should value of *maze* be?\n",
        "\n",
        "A. The value of the maze parameter in the A* algorithm code should be a two-dimensional array or list that represents the layout or structure of the maze. Each element in the array corresponds to a cell in the maze and represents the terrain or obstacle at that location.\n",
        "Typically, the maze array uses numerical values to represent different types of terrain. For example, 0 may indicate a walkable path or empty space, while non-zero values can represent walls, obstacles, or restricted areas that cannot be traversed.\n",
        "The dimensions of the maze array determine the size of the maze. The outer array represents the rows, and each inner array represents the cells or columns within a row."
      ]
    },
    {
      "attachments": {},
      "cell_type": "markdown",
      "metadata": {
        "id": "EcB70Wbet1-w"
      },
      "source": [
        "## Build Main\n",
        "Please use the above code that uses the astar() function to define a path from the beginning to the end of a maze. You can choose how the maze looks and where the start and end are."
      ]
    },
    {
      "cell_type": "code",
      "execution_count": 3,
      "metadata": {
        "colab": {
          "base_uri": "https://localhost:8080/"
        },
        "id": "MY8tTsSbt1XE",
        "outputId": "037efe7e-7a2c-4e73-cfa1-2e0b21439145"
      },
      "outputs": [
        {
          "name": "stdout",
          "output_type": "stream",
          "text": [
            "Path found:\n",
            "(0, 0)\n",
            "(0, 1)\n",
            "(1, 2)\n",
            "(2, 1)\n",
            "(3, 0)\n",
            "(4, 1)\n",
            "(4, 2)\n",
            "(4, 3)\n",
            "(4, 4)\n"
          ]
        }
      ],
      "source": [
        "# Defining the maze\n",
        "maze = [\n",
        "    [0, 0, 0, 0, 1],\n",
        "    [1, 1, 0, 1, 0],\n",
        "    [0, 0, 0, 0, 0],\n",
        "    [0, 1, 1, 1, 1],\n",
        "    [0, 0, 0, 0, 0]\n",
        "]\n",
        "\n",
        "start = (0, 0)\n",
        "end = (4, 4)\n",
        "\n",
        "# Path using A* algorithm\n",
        "path = astar(maze, start, end)\n",
        "\n",
        "if path:\n",
        "    print(\"Path found:\")\n",
        "    for position in path:\n",
        "        print(position)\n",
        "else:\n",
        "    print(\"No path found.\")"
      ]
    },
    {
      "attachments": {},
      "cell_type": "markdown",
      "metadata": {
        "id": "_t_M9LWSwc79"
      },
      "source": [
        "## Impossible Maze"
      ]
    },
    {
      "cell_type": "code",
      "execution_count": 4,
      "metadata": {
        "colab": {
          "base_uri": "https://localhost:8080/"
        },
        "id": "yoQ3fuVbwnuv",
        "outputId": "31e383b5-bb6a-4774-b065-9b828083fe75"
      },
      "outputs": [
        {
          "name": "stdout",
          "output_type": "stream",
          "text": [
            "No path found.\n"
          ]
        }
      ],
      "source": [
        "# Impossible maze\n",
        "maze = [\n",
        "    [0, 1, 0],\n",
        "    [1, 1, 1],\n",
        "    [0, 1, 0]\n",
        "]\n",
        "\n",
        "start = (0, 0)\n",
        "end = (2, 2)\n",
        "\n",
        "# Finding the path\n",
        "path = astar(maze, start, end)\n",
        "\n",
        "\n",
        "if path:\n",
        "    print(\"Path found:\")\n",
        "    for position in path:\n",
        "        print(position)\n",
        "else:\n",
        "    print(\"No path found.\")"
      ]
    },
    {
      "attachments": {},
      "cell_type": "markdown",
      "metadata": {
        "id": "oRLR6EAh5OSW"
      },
      "source": [
        "The result will be \"No path found.\" Because the center cell is completely obstructed by obstacles there is no way to get from the start position to the end position."
      ]
    }
  ],
  "metadata": {
    "colab": {
      "provenance": [],
      "toc_visible": true
    },
    "kernelspec": {
      "display_name": "Python 3",
      "name": "python3"
    },
    "language_info": {
      "codemirror_mode": {
        "name": "ipython",
        "version": 3
      },
      "file_extension": ".py",
      "mimetype": "text/x-python",
      "name": "python",
      "nbconvert_exporter": "python",
      "pygments_lexer": "ipython3",
      "version": "3.9.6"
    }
  },
  "nbformat": 4,
  "nbformat_minor": 0
}
