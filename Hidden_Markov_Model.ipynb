{
  "cells": [
    {
      "attachments": {},
      "cell_type": "markdown",
      "metadata": {
        "id": "ptowb9ItHGHf"
      },
      "source": [
        "# Weather Model"
      ]
    },
    {
      "attachments": {},
      "cell_type": "markdown",
      "metadata": {
        "id": "Xzbe41iVrdkn"
      },
      "source": [
        "## Directions\n",
        "\n",
        "implementing a filtering  inference task on an HMM\n",
        "Denote the hidden states of the HMM by `S(t)` and the observations (evidence) by `E(t)`. In the weather problem from the HMM Tutorial, X(t) would be either sunny, rainy, or foggy, and `E(t)` is yes or no to indicate if an umbrella was observed. We will use this model with prior probabilities P(sunny) = 0.5, P(rainy) = 0.25, P(foggy) = 0.25. The remaining probilities you need are specified below in the emisssion (`P_emission`) and transition matrices (`P_transition`).\n",
        "\n",
        "\n",
        "## Computing the probability of rain given the observations of the umbrella."
      ]
    },
    {
      "attachments": {},
      "cell_type": "markdown",
      "metadata": {
        "id": "lgFmif62JksI"
      },
      "source": [
        "## Probability Definitions\n",
        "Below you will find:\n",
        "- `P_init`: The initial probabilities of the weather state, whether sunny (0), rainy (1) or foggy (2)\n",
        "- `P_transition`: The transition probabilities or the probability that one weather state one day transitions to another weather state\n",
        "- `P_emission`: The 'emission' probabilities or the probabilities that an observation is made, conditioned on the underlying state."
      ]
    },
    {
      "cell_type": "code",
      "execution_count": 65,
      "metadata": {
        "id": "t3cwslrxsF_q"
      },
      "outputs": [],
      "source": [
        "### DO NOT CHANGE ###\n",
        "\n",
        "import numpy as np\n",
        "\n",
        "# prior probability on weather states\n",
        "# P(sunny) = 0.5  P(rainy) = 0.25  P(foggy) = 0.25\n",
        "P_init = np.array([0.5, 0.25, 0.25])\n",
        "\n",
        "# states (0=sunny, 1=rainy, 2=foggy)\n",
        "S = [0, 1, 2]\n",
        "\n",
        "# transition probabilities\n",
        "#                    tomorrrow\n",
        "#    today     sunny  rainy  foggy\n",
        "#    sunny      0.8    0.05   0.15\n",
        "#    rainy      0.2    0.6    0.2\n",
        "#    foggy      0.2    0.3    0.5\n",
        "P_transition = np.array([ [0.8, 0.05, 0.15], [0.2, 0.6, 0.2], [0.2, 0.3, 0.5] ])\n",
        "\n",
        "# conditional probabilities of evidence (observations) given weather\n",
        "#                            sunny  rainy  foggy\n",
        "# P(weather | umbrella=no)    0.9    0.2    0.7\n",
        "# P(weather | umbrella=yes)   0.1    0.8    0.3\n",
        "P_emission = np.array([ [0.9, 0.2, 0.7], [0.1, 0.8, 0.3] ])"
      ]
    },
    {
      "attachments": {},
      "cell_type": "markdown",
      "metadata": {
        "id": "PYM2_QgTKEZ2"
      },
      "source": [
        "### [Question - State Transitions]\n",
        "If today is sunny what is the most likely forecast for the next two days if you have no umbrella observations to work with?"
      ]
    },
    {
      "cell_type": "code",
      "execution_count": 79,
      "metadata": {
        "colab": {
          "base_uri": "https://localhost:8080/"
        },
        "id": "mEx9muMVLH0U",
        "outputId": "37b858d3-885e-4d64-fe2c-2b0af7c73bf1"
      },
      "outputs": [
        {
          "name": "stdout",
          "output_type": "stream",
          "text": [
            "[0, 2]\n"
          ]
        }
      ],
      "source": [
        "def most_likely_forecast(today, P_init, P_transition, P_emission):\n",
        "\n",
        "\n",
        "  # Initializing the hidden state probabilities.\n",
        "  hidden_state_probabilities = [0.5, 0.25, 0.25]\n",
        "\n",
        "  # probabilities for the next two days.\n",
        "  for t in range(1, 3):\n",
        "    emission_probabilities = P_emission[today] * hidden_state_probabilities\n",
        "    transition_probabilities = P_transition * hidden_state_probabilities\n",
        "    hidden_state_probabilities = emission_probabilities / sum(transition_probabilities)\n",
        "  return [today, np.argmax(hidden_state_probabilities)]\n",
        "\n",
        "\n",
        "if __name__ == \"__main__\":\n",
        "#Today it's sunny\n",
        "  today = 0\n",
        "\n",
        "  # Calculating the most likely forecast.\n",
        "  forecast = most_likely_forecast(today, P_init, P_transition, P_emission)\n",
        "  print(forecast)"
      ]
    },
    {
      "attachments": {},
      "cell_type": "markdown",
      "metadata": {
        "id": "EP1-dHpnK_kn"
      },
      "source": [
        "### [Question - Emission probabilities ]\n",
        "If on the first day you see no umbrella, what is the probability that it is rainy, foggy or sunny (Hint: remember the importance of overall probability of each state)?\n",
        "\n",
        "What is the most likely weather (hidden state)?"
      ]
    },
    {
      "cell_type": "code",
      "execution_count": 67,
      "metadata": {
        "colab": {
          "base_uri": "https://localhost:8080/"
        },
        "id": "cME3l65bLcjm",
        "outputId": "a00bb634-c5e8-4f32-cd29-da0dcc026d73"
      },
      "outputs": [
        {
          "name": "stdout",
          "output_type": "stream",
          "text": [
            "The emission probabilities are: [0.36000000000000004, 0.045000000000000005, 0.045000000000000005]\n",
            "The most likely weather on the first day is: 0\n"
          ]
        }
      ],
      "source": [
        "def emission_probabilities(P_init, P_transition, P_emission, today):\n",
        "\n",
        "  # Calculating the probability of seeing no umbrella given each weather state.\n",
        "  emission_probabilities = []\n",
        "  for state in range(3):\n",
        "    probability = P_init[state] * P_transition[state, today] * P_emission[today, 0]\n",
        "    emission_probabilities.append(probability)\n",
        "  return emission_probabilities\n",
        "\n",
        "\n",
        "def most_likely_weather(P_emission):\n",
        "  max_index = np.argmax(P_emission)\n",
        "  return max_index\n",
        "\n",
        "\n",
        "if __name__ == \"__main__\":\n",
        "  #emission probabilities.\n",
        "  P_state_day0_given_umbrella = emission_probabilities(P_init, P_transition, P_emission, 0)\n",
        "  print(\"The emission probabilities are:\", P_state_day0_given_umbrella)\n",
        "\n",
        "  # Printing the most likely weather.\n",
        "  print(\"The most likely weather on the first day is:\", most_likely_weather(P_state_day0_given_umbrella))"
      ]
    },
    {
      "attachments": {},
      "cell_type": "markdown",
      "metadata": {
        "id": "6chDNxazJh4w"
      },
      "source": [
        "### Evidence / observations\n",
        "\n",
        "Now we will define the observations on each day - whether we observed an umbrella (1) or not (0).\n"
      ]
    },
    {
      "cell_type": "code",
      "execution_count": 68,
      "metadata": {
        "id": "2sTDhFyECedd"
      },
      "outputs": [],
      "source": [
        "### DO NOT CHANGE ###\n",
        "\n",
        "## 0 = no umbrella, 1 = umbrella\n",
        "E = [0, 0, 0, 1, 0, 0, 1, 1, 0, 1]"
      ]
    },
    {
      "attachments": {},
      "cell_type": "markdown",
      "metadata": {
        "id": "43OFPj-erMWJ"
      },
      "source": [
        "## Filtering\n",
        "\n",
        "*As a reminder*\n",
        "\n",
        "**Filtering**:\n",
        "Given observation sequence E(0), E(1), ..., E(T-1), compute P(X(T-1)|E(0), ..., E(T-1)).\n",
        "\n",
        "So we are computing the probability of the final state given our observations or evidence to date.\n",
        "\n",
        "We do this with the *Forward Algorithm* (see 15.2 in the text), which requires that we initialize probabilities at the first step using our 'prior' probability values of each underlying state. Then we update probabilities at each step (`Recursion`) using the prior step probabilities and given new evidence. We do this until we reach the end and then compute the total probability of each underlying state at the finel step."
      ]
    },
    {
      "attachments": {},
      "cell_type": "markdown",
      "metadata": {
        "id": "Hw-UXGgV0fOP"
      },
      "source": [
        "### Recursion (and initialization) function definition"
      ]
    },
    {
      "cell_type": "code",
      "execution_count": 69,
      "metadata": {
        "id": "WqYrklx1xETE"
      },
      "outputs": [],
      "source": [
        "### DO NOT CHANGE ###\n",
        "\n",
        "# Normalize a probability distribution\n",
        "def normalize(pdist):\n",
        "   s = sum(pdist)\n",
        "   for i in range(0,len(pdist)):\n",
        "      pdist[i] = pdist[i] / s\n",
        "   return pdist\n",
        "\n",
        "DEBUG=True\n",
        "\n",
        "def init_and_recursion(Obs, S, init_prob, P_emission, P_transition):\n",
        "  ## a has a \"row\" for every observation and a \"column\" for every possible state\n",
        "  a = np.zeros((len(Obs), len(S)))\n",
        "  for t in range(0, len(Obs)):\n",
        "    print(f\".. (time {t}) Observation: {Obs[t]}\")\n",
        "    ## probability of a[0,:] is computed by summing over probabilities of all the\n",
        "    ## ways we could get to this \"path\" given where we left off at the previous\n",
        "    ## time step\n",
        "    if t == 0:\n",
        "      ##### Initialization\n",
        "      for j in range(len(S)):\n",
        "        #print(f\"t={t}, j={j}, S[j]={S[j]}, Obs[t]={Obs[t]}\")\n",
        "        a[t, j] = init_prob[j] * P_emission[Obs[t], S[j]]\n",
        "        current_state_total_prob = a[t, j]\n",
        "        print(f\".... Probability at state {S[j]}: {current_state_total_prob:.4f} (initial state)\")\n",
        "    else:\n",
        "      ## we need to compute a probability for each of the possible states\n",
        "      for j in range(len(S)): ## for each of the present states\n",
        "        S_curr = S[j]\n",
        "        ## we need to sum over all of the previous states to get current state prob\n",
        "        ## we'll keep track of that probability to sum up here\n",
        "        current_state_total_prob = 0.0\n",
        "        for k in range(len(S)): ## for each of the possible previous states\n",
        "          S_prev = S[k] ## possible previous state that we came from\n",
        "          if DEBUG:\n",
        "            print(f\"......Transition from state={S_prev} to state={S_prev}\")\n",
        "            print(f\"        Calculation: \")\n",
        "            print(f\"        {a[t-1, k]:.2f} * {P_emission[Obs[t], S[j]]:.2f} * {P_transition[S_prev, S_curr]:.2f}\")\n",
        "          current_state_total_prob += a[t-1, k] * P_emission[Obs[t], S[j]] * P_transition[S_prev, S_curr]\n",
        "        a[t, j] = current_state_total_prob\n",
        "    a[t,:] = normalize(a[t,:])\n",
        "    print(f\".... State probabilities: {a[t, :]}\")\n",
        "  return a"
      ]
    },
    {
      "attachments": {},
      "cell_type": "markdown",
      "metadata": {
        "id": "R9w5b_dy0k-u"
      },
      "source": [
        "### Termination function definition"
      ]
    },
    {
      "cell_type": "code",
      "execution_count": 70,
      "metadata": {
        "id": "eaZ6eXNxxzjR"
      },
      "outputs": [],
      "source": [
        "### DO NOT CHANGE ###\n",
        "\n",
        "def termination(a):\n",
        "  total_ending_prob = 0\n",
        "  T = a.shape[0]-1 ## last time point\n",
        "  for i in range(len(a[T, :])):\n",
        "    total_ending_prob += a[T, i]\n",
        "  print(f\"\\nProbability of each potential state: {a[T]}\")"
      ]
    },
    {
      "attachments": {},
      "cell_type": "markdown",
      "metadata": {
        "id": "HgSvmWiGPHof"
      },
      "source": [
        "### [Question - Final state]\n",
        "What is the most likely final state (most likely weather)? How much more likely is the final weather than the other two options?\n",
        "\n",
        "Use the above recursion and initialization function to compute the most likely state at the end (the filtering problem)."
      ]
    },
    {
      "cell_type": "code",
      "execution_count": 75,
      "metadata": {
        "colab": {
          "base_uri": "https://localhost:8080/"
        },
        "id": "f6XyS-8pPS5z",
        "outputId": "02a355d0-1d7e-45b9-f188-ff011549ef55"
      },
      "outputs": [
        {
          "name": "stdout",
          "output_type": "stream",
          "text": [
            ".. (time 0) Observation: 0\n",
            ".... Probability at state 0: 0.4500 (initial state)\n",
            ".... Probability at state 1: 0.0500 (initial state)\n",
            ".... Probability at state 2: 0.1750 (initial state)\n",
            ".... State probabilities: [0.66666667 0.07407407 0.25925926]\n",
            ".. (time 1) Observation: 0\n",
            "......Transition from state=0 to state=0\n",
            "        Calculation: \n",
            "        0.67 * 0.90 * 0.80\n",
            "......Transition from state=1 to state=1\n",
            "        Calculation: \n",
            "        0.07 * 0.90 * 0.20\n",
            "......Transition from state=2 to state=2\n",
            "        Calculation: \n",
            "        0.26 * 0.90 * 0.20\n",
            "......Transition from state=0 to state=0\n",
            "        Calculation: \n",
            "        0.67 * 0.20 * 0.05\n",
            "......Transition from state=1 to state=1\n",
            "        Calculation: \n",
            "        0.07 * 0.20 * 0.60\n",
            "......Transition from state=2 to state=2\n",
            "        Calculation: \n",
            "        0.26 * 0.20 * 0.30\n",
            "......Transition from state=0 to state=0\n",
            "        Calculation: \n",
            "        0.67 * 0.70 * 0.15\n",
            "......Transition from state=1 to state=1\n",
            "        Calculation: \n",
            "        0.07 * 0.70 * 0.20\n",
            "......Transition from state=2 to state=2\n",
            "        Calculation: \n",
            "        0.26 * 0.70 * 0.50\n",
            ".... State probabilities: [0.72754491 0.04191617 0.23053892]\n",
            ".. (time 2) Observation: 0\n",
            "......Transition from state=0 to state=0\n",
            "        Calculation: \n",
            "        0.73 * 0.90 * 0.80\n",
            "......Transition from state=1 to state=1\n",
            "        Calculation: \n",
            "        0.04 * 0.90 * 0.20\n",
            "......Transition from state=2 to state=2\n",
            "        Calculation: \n",
            "        0.23 * 0.90 * 0.20\n",
            "......Transition from state=0 to state=0\n",
            "        Calculation: \n",
            "        0.73 * 0.20 * 0.05\n",
            "......Transition from state=1 to state=1\n",
            "        Calculation: \n",
            "        0.04 * 0.20 * 0.60\n",
            "......Transition from state=2 to state=2\n",
            "        Calculation: \n",
            "        0.23 * 0.20 * 0.30\n",
            "......Transition from state=0 to state=0\n",
            "        Calculation: \n",
            "        0.73 * 0.70 * 0.15\n",
            "......Transition from state=1 to state=1\n",
            "        Calculation: \n",
            "        0.04 * 0.70 * 0.20\n",
            "......Transition from state=2 to state=2\n",
            "        Calculation: \n",
            "        0.23 * 0.70 * 0.50\n",
            ".... State probabilities: [0.75184188 0.03430323 0.21385489]\n",
            ".. (time 3) Observation: 1\n",
            "......Transition from state=0 to state=0\n",
            "        Calculation: \n",
            "        0.75 * 0.10 * 0.80\n",
            "......Transition from state=1 to state=1\n",
            "        Calculation: \n",
            "        0.03 * 0.10 * 0.20\n",
            "......Transition from state=2 to state=2\n",
            "        Calculation: \n",
            "        0.21 * 0.10 * 0.20\n",
            "......Transition from state=0 to state=0\n",
            "        Calculation: \n",
            "        0.75 * 0.80 * 0.05\n",
            "......Transition from state=1 to state=1\n",
            "        Calculation: \n",
            "        0.03 * 0.80 * 0.60\n",
            "......Transition from state=2 to state=2\n",
            "        Calculation: \n",
            "        0.21 * 0.80 * 0.30\n",
            "......Transition from state=0 to state=0\n",
            "        Calculation: \n",
            "        0.75 * 0.30 * 0.15\n",
            "......Transition from state=1 to state=1\n",
            "        Calculation: \n",
            "        0.03 * 0.30 * 0.20\n",
            "......Transition from state=2 to state=2\n",
            "        Calculation: \n",
            "        0.21 * 0.30 * 0.50\n",
            ".... State probabilities: [0.28193177 0.42375772 0.29431051]\n",
            ".. (time 4) Observation: 0\n",
            "......Transition from state=0 to state=0\n",
            "        Calculation: \n",
            "        0.28 * 0.90 * 0.80\n",
            "......Transition from state=1 to state=1\n",
            "        Calculation: \n",
            "        0.42 * 0.90 * 0.20\n",
            "......Transition from state=2 to state=2\n",
            "        Calculation: \n",
            "        0.29 * 0.90 * 0.20\n",
            "......Transition from state=0 to state=0\n",
            "        Calculation: \n",
            "        0.28 * 0.20 * 0.05\n",
            "......Transition from state=1 to state=1\n",
            "        Calculation: \n",
            "        0.42 * 0.20 * 0.60\n",
            "......Transition from state=2 to state=2\n",
            "        Calculation: \n",
            "        0.29 * 0.20 * 0.30\n",
            "......Transition from state=0 to state=0\n",
            "        Calculation: \n",
            "        0.28 * 0.70 * 0.15\n",
            "......Transition from state=1 to state=1\n",
            "        Calculation: \n",
            "        0.42 * 0.70 * 0.20\n",
            "......Transition from state=2 to state=2\n",
            "        Calculation: \n",
            "        0.29 * 0.70 * 0.50\n",
            ".... State probabilities: [0.557914   0.11977787 0.32230813]\n",
            ".. (time 5) Observation: 0\n",
            "......Transition from state=0 to state=0\n",
            "        Calculation: \n",
            "        0.56 * 0.90 * 0.80\n",
            "......Transition from state=1 to state=1\n",
            "        Calculation: \n",
            "        0.12 * 0.90 * 0.20\n",
            "......Transition from state=2 to state=2\n",
            "        Calculation: \n",
            "        0.32 * 0.90 * 0.20\n",
            "......Transition from state=0 to state=0\n",
            "        Calculation: \n",
            "        0.56 * 0.20 * 0.05\n",
            "......Transition from state=1 to state=1\n",
            "        Calculation: \n",
            "        0.12 * 0.20 * 0.60\n",
            "......Transition from state=2 to state=2\n",
            "        Calculation: \n",
            "        0.32 * 0.20 * 0.30\n",
            "......Transition from state=0 to state=0\n",
            "        Calculation: \n",
            "        0.56 * 0.70 * 0.15\n",
            "......Transition from state=1 to state=1\n",
            "        Calculation: \n",
            "        0.12 * 0.70 * 0.20\n",
            "......Transition from state=2 to state=2\n",
            "        Calculation: \n",
            "        0.32 * 0.70 * 0.50\n",
            ".... State probabilities: [0.67907217 0.05543917 0.26548866]\n",
            ".. (time 6) Observation: 1\n",
            "......Transition from state=0 to state=0\n",
            "        Calculation: \n",
            "        0.68 * 0.10 * 0.80\n",
            "......Transition from state=1 to state=1\n",
            "        Calculation: \n",
            "        0.06 * 0.10 * 0.20\n",
            "......Transition from state=2 to state=2\n",
            "        Calculation: \n",
            "        0.27 * 0.10 * 0.20\n",
            "......Transition from state=0 to state=0\n",
            "        Calculation: \n",
            "        0.68 * 0.80 * 0.05\n",
            "......Transition from state=1 to state=1\n",
            "        Calculation: \n",
            "        0.06 * 0.80 * 0.60\n",
            "......Transition from state=2 to state=2\n",
            "        Calculation: \n",
            "        0.27 * 0.80 * 0.30\n",
            "......Transition from state=0 to state=0\n",
            "        Calculation: \n",
            "        0.68 * 0.30 * 0.15\n",
            "......Transition from state=1 to state=1\n",
            "        Calculation: \n",
            "        0.06 * 0.30 * 0.20\n",
            "......Transition from state=2 to state=2\n",
            "        Calculation: \n",
            "        0.27 * 0.30 * 0.50\n",
            ".... State probabilities: [0.24110328 0.46633912 0.2925576 ]\n",
            ".. (time 7) Observation: 1\n",
            "......Transition from state=0 to state=0\n",
            "        Calculation: \n",
            "        0.24 * 0.10 * 0.80\n",
            "......Transition from state=1 to state=1\n",
            "        Calculation: \n",
            "        0.47 * 0.10 * 0.20\n",
            "......Transition from state=2 to state=2\n",
            "        Calculation: \n",
            "        0.29 * 0.10 * 0.20\n",
            "......Transition from state=0 to state=0\n",
            "        Calculation: \n",
            "        0.24 * 0.80 * 0.05\n",
            "......Transition from state=1 to state=1\n",
            "        Calculation: \n",
            "        0.47 * 0.80 * 0.60\n",
            "......Transition from state=2 to state=2\n",
            "        Calculation: \n",
            "        0.29 * 0.80 * 0.30\n",
            "......Transition from state=0 to state=0\n",
            "        Calculation: \n",
            "        0.24 * 0.30 * 0.15\n",
            "......Transition from state=1 to state=1\n",
            "        Calculation: \n",
            "        0.47 * 0.30 * 0.20\n",
            "......Transition from state=2 to state=2\n",
            "        Calculation: \n",
            "        0.29 * 0.30 * 0.50\n",
            ".... State probabilities: [0.08189068 0.72158412 0.1965252 ]\n",
            ".. (time 8) Observation: 0\n",
            "......Transition from state=0 to state=0\n",
            "        Calculation: \n",
            "        0.08 * 0.90 * 0.80\n",
            "......Transition from state=1 to state=1\n",
            "        Calculation: \n",
            "        0.72 * 0.90 * 0.20\n",
            "......Transition from state=2 to state=2\n",
            "        Calculation: \n",
            "        0.20 * 0.90 * 0.20\n",
            "......Transition from state=0 to state=0\n",
            "        Calculation: \n",
            "        0.08 * 0.20 * 0.05\n",
            "......Transition from state=1 to state=1\n",
            "        Calculation: \n",
            "        0.72 * 0.20 * 0.60\n",
            "......Transition from state=2 to state=2\n",
            "        Calculation: \n",
            "        0.20 * 0.20 * 0.30\n",
            "......Transition from state=0 to state=0\n",
            "        Calculation: \n",
            "        0.08 * 0.70 * 0.15\n",
            "......Transition from state=1 to state=1\n",
            "        Calculation: \n",
            "        0.72 * 0.70 * 0.20\n",
            "......Transition from state=2 to state=2\n",
            "        Calculation: \n",
            "        0.20 * 0.70 * 0.50\n",
            ".... State probabilities: [0.44681054 0.19767926 0.3555102 ]\n",
            ".. (time 9) Observation: 1\n",
            "......Transition from state=0 to state=0\n",
            "        Calculation: \n",
            "        0.45 * 0.10 * 0.80\n",
            "......Transition from state=1 to state=1\n",
            "        Calculation: \n",
            "        0.20 * 0.10 * 0.20\n",
            "......Transition from state=2 to state=2\n",
            "        Calculation: \n",
            "        0.36 * 0.10 * 0.20\n",
            "......Transition from state=0 to state=0\n",
            "        Calculation: \n",
            "        0.45 * 0.80 * 0.05\n",
            "......Transition from state=1 to state=1\n",
            "        Calculation: \n",
            "        0.20 * 0.80 * 0.60\n",
            "......Transition from state=2 to state=2\n",
            "        Calculation: \n",
            "        0.36 * 0.80 * 0.30\n",
            "......Transition from state=0 to state=0\n",
            "        Calculation: \n",
            "        0.45 * 0.30 * 0.15\n",
            "......Transition from state=1 to state=1\n",
            "        Calculation: \n",
            "        0.20 * 0.30 * 0.20\n",
            "......Transition from state=2 to state=2\n",
            "        Calculation: \n",
            "        0.36 * 0.30 * 0.50\n",
            ".... State probabilities: [0.14176559 0.59991196 0.25832245]\n",
            "The most likely final state is: 1\n",
            "The probability of the most likely final state is: 0.5999119585435041\n"
          ]
        }
      ],
      "source": [
        "Obs = [0, 0, 0, 1, 0, 0, 1, 1, 0, 1]\n",
        "\n",
        "#Running algorithm\n",
        "a = init_and_recursion(Obs, S, P_init, P_emission, P_transition)\n",
        "#Printing the output\n",
        "print(\"The most likely final state is:\", np.argmax(a[-1, :]))\n",
        "print(\"The probability of the most likely final state is:\", a[-1, np.argmax(a[-1, :])])"
      ]
    },
    {
      "attachments": {},
      "cell_type": "markdown",
      "metadata": {
        "id": "i0NImz58WoFK"
      },
      "source": [
        "### [Question - Plot probabilities ]\n",
        "\n",
        "Use the [PyPlot](https://matplotlib.org/stable/tutorials/introductory/pyplot.html#:~:text=the%20pyplot%20interface.-,Intro%20to%20pyplot,the%20plot%20with%20labels%2C%20etc.) library to plot the transition probabilities over time."
      ]
    },
    {
      "cell_type": "code",
      "execution_count": 74,
      "metadata": {
        "colab": {
          "base_uri": "https://localhost:8080/",
          "height": 542
        },
        "id": "y12aUJ0rWmtK",
        "outputId": "23687f57-282c-4844-89a9-94466bd2f840"
      },
      "outputs": [
        {
          "data": {
            "text/html": [
              "<html>\n",
              "<head><meta charset=\"utf-8\" /></head>\n",
              "<body>\n",
              "    <div>            <script src=\"https://cdnjs.cloudflare.com/ajax/libs/mathjax/2.7.5/MathJax.js?config=TeX-AMS-MML_SVG\"></script><script type=\"text/javascript\">if (window.MathJax && window.MathJax.Hub && window.MathJax.Hub.Config) {window.MathJax.Hub.Config({SVG: {font: \"STIX-Web\"}});}</script>                <script type=\"text/javascript\">window.PlotlyConfig = {MathJaxConfig: 'local'};</script>\n",
              "        <script src=\"https://cdn.plot.ly/plotly-2.18.2.min.js\"></script>                <div id=\"e35f3759-89f4-411d-8d59-2539cb442cd9\" class=\"plotly-graph-div\" style=\"height:525px; width:100%;\"></div>            <script type=\"text/javascript\">                                    window.PLOTLYENV=window.PLOTLYENV || {};                                    if (document.getElementById(\"e35f3759-89f4-411d-8d59-2539cb442cd9\")) {                    Plotly.newPlot(                        \"e35f3759-89f4-411d-8d59-2539cb442cd9\",                        [{\"coloraxis\":\"coloraxis\",\"name\":\"0\",\"z\":[[0.8,0.05,0.15],[0.2,0.6,0.2],[0.2,0.3,0.5]],\"type\":\"heatmap\",\"xaxis\":\"x\",\"yaxis\":\"y\",\"hovertemplate\":\"x: %{x}<br>y: %{y}<br>color: %{z}<extra></extra>\"}],                        {\"template\":{\"data\":{\"histogram2dcontour\":[{\"type\":\"histogram2dcontour\",\"colorbar\":{\"outlinewidth\":0,\"ticks\":\"\"},\"colorscale\":[[0.0,\"#0d0887\"],[0.1111111111111111,\"#46039f\"],[0.2222222222222222,\"#7201a8\"],[0.3333333333333333,\"#9c179e\"],[0.4444444444444444,\"#bd3786\"],[0.5555555555555556,\"#d8576b\"],[0.6666666666666666,\"#ed7953\"],[0.7777777777777778,\"#fb9f3a\"],[0.8888888888888888,\"#fdca26\"],[1.0,\"#f0f921\"]]}],\"choropleth\":[{\"type\":\"choropleth\",\"colorbar\":{\"outlinewidth\":0,\"ticks\":\"\"}}],\"histogram2d\":[{\"type\":\"histogram2d\",\"colorbar\":{\"outlinewidth\":0,\"ticks\":\"\"},\"colorscale\":[[0.0,\"#0d0887\"],[0.1111111111111111,\"#46039f\"],[0.2222222222222222,\"#7201a8\"],[0.3333333333333333,\"#9c179e\"],[0.4444444444444444,\"#bd3786\"],[0.5555555555555556,\"#d8576b\"],[0.6666666666666666,\"#ed7953\"],[0.7777777777777778,\"#fb9f3a\"],[0.8888888888888888,\"#fdca26\"],[1.0,\"#f0f921\"]]}],\"heatmap\":[{\"type\":\"heatmap\",\"colorbar\":{\"outlinewidth\":0,\"ticks\":\"\"},\"colorscale\":[[0.0,\"#0d0887\"],[0.1111111111111111,\"#46039f\"],[0.2222222222222222,\"#7201a8\"],[0.3333333333333333,\"#9c179e\"],[0.4444444444444444,\"#bd3786\"],[0.5555555555555556,\"#d8576b\"],[0.6666666666666666,\"#ed7953\"],[0.7777777777777778,\"#fb9f3a\"],[0.8888888888888888,\"#fdca26\"],[1.0,\"#f0f921\"]]}],\"heatmapgl\":[{\"type\":\"heatmapgl\",\"colorbar\":{\"outlinewidth\":0,\"ticks\":\"\"},\"colorscale\":[[0.0,\"#0d0887\"],[0.1111111111111111,\"#46039f\"],[0.2222222222222222,\"#7201a8\"],[0.3333333333333333,\"#9c179e\"],[0.4444444444444444,\"#bd3786\"],[0.5555555555555556,\"#d8576b\"],[0.6666666666666666,\"#ed7953\"],[0.7777777777777778,\"#fb9f3a\"],[0.8888888888888888,\"#fdca26\"],[1.0,\"#f0f921\"]]}],\"contourcarpet\":[{\"type\":\"contourcarpet\",\"colorbar\":{\"outlinewidth\":0,\"ticks\":\"\"}}],\"contour\":[{\"type\":\"contour\",\"colorbar\":{\"outlinewidth\":0,\"ticks\":\"\"},\"colorscale\":[[0.0,\"#0d0887\"],[0.1111111111111111,\"#46039f\"],[0.2222222222222222,\"#7201a8\"],[0.3333333333333333,\"#9c179e\"],[0.4444444444444444,\"#bd3786\"],[0.5555555555555556,\"#d8576b\"],[0.6666666666666666,\"#ed7953\"],[0.7777777777777778,\"#fb9f3a\"],[0.8888888888888888,\"#fdca26\"],[1.0,\"#f0f921\"]]}],\"surface\":[{\"type\":\"surface\",\"colorbar\":{\"outlinewidth\":0,\"ticks\":\"\"},\"colorscale\":[[0.0,\"#0d0887\"],[0.1111111111111111,\"#46039f\"],[0.2222222222222222,\"#7201a8\"],[0.3333333333333333,\"#9c179e\"],[0.4444444444444444,\"#bd3786\"],[0.5555555555555556,\"#d8576b\"],[0.6666666666666666,\"#ed7953\"],[0.7777777777777778,\"#fb9f3a\"],[0.8888888888888888,\"#fdca26\"],[1.0,\"#f0f921\"]]}],\"mesh3d\":[{\"type\":\"mesh3d\",\"colorbar\":{\"outlinewidth\":0,\"ticks\":\"\"}}],\"scatter\":[{\"fillpattern\":{\"fillmode\":\"overlay\",\"size\":10,\"solidity\":0.2},\"type\":\"scatter\"}],\"parcoords\":[{\"type\":\"parcoords\",\"line\":{\"colorbar\":{\"outlinewidth\":0,\"ticks\":\"\"}}}],\"scatterpolargl\":[{\"type\":\"scatterpolargl\",\"marker\":{\"colorbar\":{\"outlinewidth\":0,\"ticks\":\"\"}}}],\"bar\":[{\"error_x\":{\"color\":\"#2a3f5f\"},\"error_y\":{\"color\":\"#2a3f5f\"},\"marker\":{\"line\":{\"color\":\"#E5ECF6\",\"width\":0.5},\"pattern\":{\"fillmode\":\"overlay\",\"size\":10,\"solidity\":0.2}},\"type\":\"bar\"}],\"scattergeo\":[{\"type\":\"scattergeo\",\"marker\":{\"colorbar\":{\"outlinewidth\":0,\"ticks\":\"\"}}}],\"scatterpolar\":[{\"type\":\"scatterpolar\",\"marker\":{\"colorbar\":{\"outlinewidth\":0,\"ticks\":\"\"}}}],\"histogram\":[{\"marker\":{\"pattern\":{\"fillmode\":\"overlay\",\"size\":10,\"solidity\":0.2}},\"type\":\"histogram\"}],\"scattergl\":[{\"type\":\"scattergl\",\"marker\":{\"colorbar\":{\"outlinewidth\":0,\"ticks\":\"\"}}}],\"scatter3d\":[{\"type\":\"scatter3d\",\"line\":{\"colorbar\":{\"outlinewidth\":0,\"ticks\":\"\"}},\"marker\":{\"colorbar\":{\"outlinewidth\":0,\"ticks\":\"\"}}}],\"scattermapbox\":[{\"type\":\"scattermapbox\",\"marker\":{\"colorbar\":{\"outlinewidth\":0,\"ticks\":\"\"}}}],\"scatterternary\":[{\"type\":\"scatterternary\",\"marker\":{\"colorbar\":{\"outlinewidth\":0,\"ticks\":\"\"}}}],\"scattercarpet\":[{\"type\":\"scattercarpet\",\"marker\":{\"colorbar\":{\"outlinewidth\":0,\"ticks\":\"\"}}}],\"carpet\":[{\"aaxis\":{\"endlinecolor\":\"#2a3f5f\",\"gridcolor\":\"white\",\"linecolor\":\"white\",\"minorgridcolor\":\"white\",\"startlinecolor\":\"#2a3f5f\"},\"baxis\":{\"endlinecolor\":\"#2a3f5f\",\"gridcolor\":\"white\",\"linecolor\":\"white\",\"minorgridcolor\":\"white\",\"startlinecolor\":\"#2a3f5f\"},\"type\":\"carpet\"}],\"table\":[{\"cells\":{\"fill\":{\"color\":\"#EBF0F8\"},\"line\":{\"color\":\"white\"}},\"header\":{\"fill\":{\"color\":\"#C8D4E3\"},\"line\":{\"color\":\"white\"}},\"type\":\"table\"}],\"barpolar\":[{\"marker\":{\"line\":{\"color\":\"#E5ECF6\",\"width\":0.5},\"pattern\":{\"fillmode\":\"overlay\",\"size\":10,\"solidity\":0.2}},\"type\":\"barpolar\"}],\"pie\":[{\"automargin\":true,\"type\":\"pie\"}]},\"layout\":{\"autotypenumbers\":\"strict\",\"colorway\":[\"#636efa\",\"#EF553B\",\"#00cc96\",\"#ab63fa\",\"#FFA15A\",\"#19d3f3\",\"#FF6692\",\"#B6E880\",\"#FF97FF\",\"#FECB52\"],\"font\":{\"color\":\"#2a3f5f\"},\"hovermode\":\"closest\",\"hoverlabel\":{\"align\":\"left\"},\"paper_bgcolor\":\"white\",\"plot_bgcolor\":\"#E5ECF6\",\"polar\":{\"bgcolor\":\"#E5ECF6\",\"angularaxis\":{\"gridcolor\":\"white\",\"linecolor\":\"white\",\"ticks\":\"\"},\"radialaxis\":{\"gridcolor\":\"white\",\"linecolor\":\"white\",\"ticks\":\"\"}},\"ternary\":{\"bgcolor\":\"#E5ECF6\",\"aaxis\":{\"gridcolor\":\"white\",\"linecolor\":\"white\",\"ticks\":\"\"},\"baxis\":{\"gridcolor\":\"white\",\"linecolor\":\"white\",\"ticks\":\"\"},\"caxis\":{\"gridcolor\":\"white\",\"linecolor\":\"white\",\"ticks\":\"\"}},\"coloraxis\":{\"colorbar\":{\"outlinewidth\":0,\"ticks\":\"\"}},\"colorscale\":{\"sequential\":[[0.0,\"#0d0887\"],[0.1111111111111111,\"#46039f\"],[0.2222222222222222,\"#7201a8\"],[0.3333333333333333,\"#9c179e\"],[0.4444444444444444,\"#bd3786\"],[0.5555555555555556,\"#d8576b\"],[0.6666666666666666,\"#ed7953\"],[0.7777777777777778,\"#fb9f3a\"],[0.8888888888888888,\"#fdca26\"],[1.0,\"#f0f921\"]],\"sequentialminus\":[[0.0,\"#0d0887\"],[0.1111111111111111,\"#46039f\"],[0.2222222222222222,\"#7201a8\"],[0.3333333333333333,\"#9c179e\"],[0.4444444444444444,\"#bd3786\"],[0.5555555555555556,\"#d8576b\"],[0.6666666666666666,\"#ed7953\"],[0.7777777777777778,\"#fb9f3a\"],[0.8888888888888888,\"#fdca26\"],[1.0,\"#f0f921\"]],\"diverging\":[[0,\"#8e0152\"],[0.1,\"#c51b7d\"],[0.2,\"#de77ae\"],[0.3,\"#f1b6da\"],[0.4,\"#fde0ef\"],[0.5,\"#f7f7f7\"],[0.6,\"#e6f5d0\"],[0.7,\"#b8e186\"],[0.8,\"#7fbc41\"],[0.9,\"#4d9221\"],[1,\"#276419\"]]},\"xaxis\":{\"gridcolor\":\"white\",\"linecolor\":\"white\",\"ticks\":\"\",\"title\":{\"standoff\":15},\"zerolinecolor\":\"white\",\"automargin\":true,\"zerolinewidth\":2},\"yaxis\":{\"gridcolor\":\"white\",\"linecolor\":\"white\",\"ticks\":\"\",\"title\":{\"standoff\":15},\"zerolinecolor\":\"white\",\"automargin\":true,\"zerolinewidth\":2},\"scene\":{\"xaxis\":{\"backgroundcolor\":\"#E5ECF6\",\"gridcolor\":\"white\",\"linecolor\":\"white\",\"showbackground\":true,\"ticks\":\"\",\"zerolinecolor\":\"white\",\"gridwidth\":2},\"yaxis\":{\"backgroundcolor\":\"#E5ECF6\",\"gridcolor\":\"white\",\"linecolor\":\"white\",\"showbackground\":true,\"ticks\":\"\",\"zerolinecolor\":\"white\",\"gridwidth\":2},\"zaxis\":{\"backgroundcolor\":\"#E5ECF6\",\"gridcolor\":\"white\",\"linecolor\":\"white\",\"showbackground\":true,\"ticks\":\"\",\"zerolinecolor\":\"white\",\"gridwidth\":2}},\"shapedefaults\":{\"line\":{\"color\":\"#2a3f5f\"}},\"annotationdefaults\":{\"arrowcolor\":\"#2a3f5f\",\"arrowhead\":0,\"arrowwidth\":1},\"geo\":{\"bgcolor\":\"white\",\"landcolor\":\"#E5ECF6\",\"subunitcolor\":\"white\",\"showland\":true,\"showlakes\":true,\"lakecolor\":\"white\"},\"title\":{\"x\":0.05},\"mapbox\":{\"style\":\"light\"}}},\"xaxis\":{\"anchor\":\"y\",\"domain\":[0.0,1.0],\"scaleanchor\":\"y\",\"constrain\":\"domain\"},\"yaxis\":{\"anchor\":\"x\",\"domain\":[0.0,1.0],\"autorange\":\"reversed\",\"constrain\":\"domain\"},\"coloraxis\":{\"colorscale\":[[0.0,\"#0d0887\"],[0.1111111111111111,\"#46039f\"],[0.2222222222222222,\"#7201a8\"],[0.3333333333333333,\"#9c179e\"],[0.4444444444444444,\"#bd3786\"],[0.5555555555555556,\"#d8576b\"],[0.6666666666666666,\"#ed7953\"],[0.7777777777777778,\"#fb9f3a\"],[0.8888888888888888,\"#fdca26\"],[1.0,\"#f0f921\"]]},\"title\":{\"text\":\"Transition Probabilities over Time\"}},                        {\"responsive\": true}                    ).then(function(){\n",
              "                            \n",
              "var gd = document.getElementById('e35f3759-89f4-411d-8d59-2539cb442cd9');\n",
              "var x = new MutationObserver(function (mutations, observer) {{\n",
              "        var display = window.getComputedStyle(gd).display;\n",
              "        if (!display || display === 'none') {{\n",
              "            console.log([gd, 'removed!']);\n",
              "            Plotly.purge(gd);\n",
              "            observer.disconnect();\n",
              "        }}\n",
              "}});\n",
              "\n",
              "// Listen for the removal of the full notebook cells\n",
              "var notebookContainer = gd.closest('#notebook-container');\n",
              "if (notebookContainer) {{\n",
              "    x.observe(notebookContainer, {childList: true});\n",
              "}}\n",
              "\n",
              "// Listen for the clearing of the current output cell\n",
              "var outputEl = gd.closest('.output');\n",
              "if (outputEl) {{\n",
              "    x.observe(outputEl, {childList: true});\n",
              "}}\n",
              "\n",
              "                        })                };                            </script>        </div>\n",
              "</body>\n",
              "</html>"
            ]
          },
          "metadata": {},
          "output_type": "display_data"
        }
      ],
      "source": [
        "import plotly.express as px\n",
        "\n",
        "# Creating a transition probability matrix\n",
        "transition_matrix = np.array(P_transition)\n",
        "\n",
        "# Plot for P_transition\n",
        "fig = px.imshow(transition_matrix,\n",
        "                 title=\"Transition Probabilities over Time\")\n",
        "fig.show()"
      ]
    },
    {
      "cell_type": "code",
      "execution_count": null,
      "metadata": {
        "id": "7XxfmoZlGN3R"
      },
      "outputs": [],
      "source": []
    }
  ],
  "metadata": {
    "colab": {
      "provenance": []
    },
    "kernelspec": {
      "display_name": "Python 3",
      "name": "python3"
    },
    "language_info": {
      "name": "python"
    }
  },
  "nbformat": 4,
  "nbformat_minor": 0
}
