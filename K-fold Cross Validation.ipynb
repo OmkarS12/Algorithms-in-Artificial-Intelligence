{
  "nbformat": 4,
  "nbformat_minor": 0,
  "metadata": {
    "colab": {
      "provenance": []
    },
    "kernelspec": {
      "name": "python3",
      "display_name": "Python 3"
    },
    "language_info": {
      "name": "python"
    }
  },
  "cells": [
    {
      "cell_type": "code",
      "execution_count": 1,
      "metadata": {
        "id": "d9JlfQGKRFus"
      },
      "outputs": [],
      "source": [
        "from sklearn.datasets import make_classification"
      ]
    },
    {
      "cell_type": "code",
      "source": [
        "#Defining Dataset\n",
        "X, y = make_classification(n_samples=1200, n_features=25, n_informative=15, n_redundant=5, random_state=1)\n",
        "print(X.shape, y.shape)"
      ],
      "metadata": {
        "colab": {
          "base_uri": "https://localhost:8080/"
        },
        "id": "yXE3-9L_RX4a",
        "outputId": "f7e0f6f1-3c03-4d82-ff48-b61c57bfa517"
      },
      "execution_count": 3,
      "outputs": [
        {
          "output_type": "stream",
          "name": "stdout",
          "text": [
            "(1200, 25) (1200,)\n"
          ]
        }
      ]
    },
    {
      "cell_type": "code",
      "source": [
        "# evaluating a logistic regression model using k-fold cross-validation\n",
        "from numpy import mean\n",
        "from numpy import std\n",
        "from sklearn.datasets import make_classification\n",
        "from sklearn.model_selection import KFold\n",
        "from sklearn.model_selection import cross_val_score\n",
        "from sklearn.linear_model import LogisticRegression\n",
        "# defining dataset\n",
        "X, y = make_classification(n_samples=1200, n_features=25, n_informative=15, n_redundant=5, random_state=1)\n",
        "# cross-validation\n",
        "cv = KFold(n_splits=10, random_state=1, shuffle=True)\n",
        "# create model\n",
        "model = LogisticRegression()\n",
        "# evaluating model\n",
        "scores = cross_val_score(model, X, y, scoring='accuracy', cv=cv, n_jobs=-1)\n",
        "# performance evaluation\n",
        "print('Accuracy: %.3f (%.3f)' % (mean(scores), std(scores)))"
      ],
      "metadata": {
        "colab": {
          "base_uri": "https://localhost:8080/"
        },
        "id": "0vbRV_iqRX7g",
        "outputId": "2d53ab00-8ca0-46e2-dcc0-80e406ab20fc"
      },
      "execution_count": 4,
      "outputs": [
        {
          "output_type": "stream",
          "name": "stdout",
          "text": [
            "Accuracy: 0.820 (0.022)\n"
          ]
        }
      ]
    },
    {
      "cell_type": "code",
      "source": [
        "# cross-validation procedure\n",
        "cv = RepeatedKFold(n_splits=10, n_repeats=3, random_state=1)"
      ],
      "metadata": {
        "id": "ZasQTMEDRX-Y"
      },
      "execution_count": null,
      "outputs": []
    },
    {
      "cell_type": "code",
      "source": [
        "# evaluating a logistic regression model using repeated k-fold cross-validation\n",
        "#Importing Repeated K Fold from sklearn\n",
        "from sklearn.model_selection import RepeatedKFold"
      ],
      "metadata": {
        "id": "oNDZ_DmSRYBN"
      },
      "execution_count": 5,
      "outputs": []
    },
    {
      "cell_type": "code",
      "source": [
        "# creating dataset\n",
        "X, y = make_classification(n_samples=1200, n_features=25, n_informative=15, n_redundant=5, random_state=1)\n",
        "# cross-validation procedure\n",
        "cv = RepeatedKFold(n_splits=10, n_repeats=3, random_state=1)\n",
        "# creating a model\n",
        "model = LogisticRegression()\n",
        "# evaluating the model\n",
        "scores = cross_val_score(model, X, y, scoring='accuracy', cv=cv, n_jobs=-1)\n",
        "# report performance\n",
        "print('Accuracy: %.3f (%.3f)' % (mean(scores), std(scores)))"
      ],
      "metadata": {
        "colab": {
          "base_uri": "https://localhost:8080/"
        },
        "id": "BgFDKBmWRYD2",
        "outputId": "bcf44066-b054-4695-9737-435832290a9f"
      },
      "execution_count": 6,
      "outputs": [
        {
          "output_type": "stream",
          "name": "stdout",
          "text": [
            "Accuracy: 0.820 (0.033)\n"
          ]
        }
      ]
    },
    {
      "cell_type": "code",
      "source": [
        "# comparing the number of repeats for repeated k-fold cross-validation\n",
        "from scipy.stats import sem\n",
        "from numpy import mean\n",
        "from numpy import std\n",
        "from sklearn.datasets import make_classification\n",
        "from sklearn.model_selection import RepeatedKFold\n",
        "from sklearn.model_selection import cross_val_score\n",
        "from sklearn.linear_model import LogisticRegression\n",
        "from matplotlib import pyplot\n",
        "\n",
        "# evaluating a model with a given number of repeats\n",
        "def evaluate_model(X, y, repeats):\n",
        " # preparing the cross-validation procedure\n",
        " cv = RepeatedKFold(n_splits=10, n_repeats=repeats, random_state=1)\n",
        " # creating model\n",
        " model = LogisticRegression()\n",
        " # evaluating model\n",
        " scores = cross_val_score(model, X, y, scoring='accuracy', cv=cv, n_jobs=-1)\n",
        " return scores\n",
        "\n",
        "# creating dataset\n",
        "X, y = make_classification(n_samples=1200, n_features=25, n_informative=15, n_redundant=5, random_state=1)\n",
        "# configurations to test\n",
        "repeats = range(1,16)\n",
        "results = list()\n",
        "for r in repeats:\n",
        " # evaluating using a given number of repeats\n",
        " scores = evaluate_model(X, y, r)\n",
        " # summarize\n",
        " print('>%d mean=%.4f se=%.3f' % (r, mean(scores), sem(scores)))\n",
        " # store\n",
        " results.append(scores)\n",
        "# plot the results\n",
        "pyplot.boxplot(results, labels=[str(r) for r in repeats], showmeans=True)\n",
        "pyplot.show()"
      ],
      "metadata": {
        "colab": {
          "base_uri": "https://localhost:8080/",
          "height": 698
        },
        "id": "QxodqetJRYGe",
        "outputId": "8b8863f5-2b00-4231-ea64-eb44405273bb"
      },
      "execution_count": 7,
      "outputs": [
        {
          "output_type": "stream",
          "name": "stdout",
          "text": [
            ">1 mean=0.8200 se=0.007\n",
            ">2 mean=0.8217 se=0.007\n",
            ">3 mean=0.8203 se=0.006\n",
            ">4 mean=0.8200 se=0.005\n",
            ">5 mean=0.8212 se=0.005\n",
            ">6 mean=0.8203 se=0.004\n",
            ">7 mean=0.8208 se=0.004\n",
            ">8 mean=0.8214 se=0.004\n",
            ">9 mean=0.8214 se=0.003\n",
            ">10 mean=0.8221 se=0.003\n",
            ">11 mean=0.8218 se=0.003\n",
            ">12 mean=0.8214 se=0.003\n",
            ">13 mean=0.8215 se=0.003\n",
            ">14 mean=0.8214 se=0.003\n",
            ">15 mean=0.8215 se=0.003\n"
          ]
        },
        {
          "output_type": "display_data",
          "data": {
            "text/plain": [
              "<Figure size 640x480 with 1 Axes>"
            ],
            "image/png": "[encoded data removed]"
          },
          "metadata": {}
        }
      ]
    },
    {
      "cell_type": "code",
      "source": [],
      "metadata": {
        "id": "4nOIY2dwRYJE"
      },
      "execution_count": null,
      "outputs": []
    }
  ]
}